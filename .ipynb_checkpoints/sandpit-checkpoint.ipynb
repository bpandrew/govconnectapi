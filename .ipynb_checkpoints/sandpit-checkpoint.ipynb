{
 "cells": [
  {
   "cell_type": "code",
   "execution_count": 112,
   "metadata": {},
   "outputs": [
    {
     "ename": "ImportError",
     "evalue": "No module named zope.interface",
     "output_type": "error",
     "traceback": [
      "\u001b[0;31m---------------------------------------------------------------------------\u001b[0m",
      "\u001b[0;31mImportError\u001b[0m                               Traceback (most recent call last)",
      "\u001b[0;32m<ipython-input-112-53afbc5d71f6>\u001b[0m in \u001b[0;36m<module>\u001b[0;34m()\u001b[0m\n\u001b[0;32m----> 1\u001b[0;31m \u001b[0;32mimport\u001b[0m \u001b[0mscrapy\u001b[0m\u001b[0;34m\u001b[0m\u001b[0m\n\u001b[0m\u001b[1;32m      2\u001b[0m \u001b[0;32mimport\u001b[0m \u001b[0mrequests\u001b[0m\u001b[0;34m\u001b[0m\u001b[0m\n",
      "\u001b[0;32m/Users/benjaminandrew/Documents/bootstrap_api/env/lib/python2.7/site-packages/scrapy/__init__.py\u001b[0m in \u001b[0;36m<module>\u001b[0;34m()\u001b[0m\n\u001b[1;32m     25\u001b[0m \u001b[0;34m\u001b[0m\u001b[0m\n\u001b[1;32m     26\u001b[0m \u001b[0;31m# Apply monkey patches to fix issues in external libraries\u001b[0m\u001b[0;34m\u001b[0m\u001b[0;34m\u001b[0m\u001b[0m\n\u001b[0;32m---> 27\u001b[0;31m \u001b[0;32mfrom\u001b[0m \u001b[0;34m.\u001b[0m \u001b[0;32mimport\u001b[0m \u001b[0m_monkeypatches\u001b[0m\u001b[0;34m\u001b[0m\u001b[0m\n\u001b[0m\u001b[1;32m     28\u001b[0m \u001b[0;32mdel\u001b[0m \u001b[0m_monkeypatches\u001b[0m\u001b[0;34m\u001b[0m\u001b[0m\n\u001b[1;32m     29\u001b[0m \u001b[0;34m\u001b[0m\u001b[0m\n",
      "\u001b[0;32m/Users/benjaminandrew/Documents/bootstrap_api/env/lib/python2.7/site-packages/scrapy/_monkeypatches.py\u001b[0m in \u001b[0;36m<module>\u001b[0;34m()\u001b[0m\n\u001b[1;32m     18\u001b[0m \u001b[0;31m# Undo what Twisted's perspective broker adds to pickle register\u001b[0m\u001b[0;34m\u001b[0m\u001b[0;34m\u001b[0m\u001b[0m\n\u001b[1;32m     19\u001b[0m \u001b[0;31m# to prevent bugs like Twisted#7989 while serializing requests\u001b[0m\u001b[0;34m\u001b[0m\u001b[0;34m\u001b[0m\u001b[0m\n\u001b[0;32m---> 20\u001b[0;31m \u001b[0;32mimport\u001b[0m \u001b[0mtwisted\u001b[0m\u001b[0;34m.\u001b[0m\u001b[0mpersisted\u001b[0m\u001b[0;34m.\u001b[0m\u001b[0mstyles\u001b[0m  \u001b[0;31m# NOQA\u001b[0m\u001b[0;34m\u001b[0m\u001b[0m\n\u001b[0m\u001b[1;32m     21\u001b[0m \u001b[0;31m# Remove only entries with twisted serializers for non-twisted types.\u001b[0m\u001b[0;34m\u001b[0m\u001b[0;34m\u001b[0m\u001b[0m\n\u001b[1;32m     22\u001b[0m \u001b[0;32mfor\u001b[0m \u001b[0mk\u001b[0m\u001b[0;34m,\u001b[0m \u001b[0mv\u001b[0m \u001b[0;32min\u001b[0m \u001b[0mfrozenset\u001b[0m\u001b[0;34m(\u001b[0m\u001b[0mcopyreg\u001b[0m\u001b[0;34m.\u001b[0m\u001b[0mdispatch_table\u001b[0m\u001b[0;34m.\u001b[0m\u001b[0mitems\u001b[0m\u001b[0;34m(\u001b[0m\u001b[0;34m)\u001b[0m\u001b[0;34m)\u001b[0m\u001b[0;34m:\u001b[0m\u001b[0;34m\u001b[0m\u001b[0m\n",
      "\u001b[0;32m/Users/benjaminandrew/Documents/bootstrap_api/env/lib/python2.7/site-packages/twisted/persisted/styles.py\u001b[0m in \u001b[0;36m<module>\u001b[0;34m()\u001b[0m\n\u001b[1;32m     22\u001b[0m \u001b[0;34m\u001b[0m\u001b[0m\n\u001b[1;32m     23\u001b[0m \u001b[0;31m# Twisted Imports\u001b[0m\u001b[0;34m\u001b[0m\u001b[0;34m\u001b[0m\u001b[0m\n\u001b[0;32m---> 24\u001b[0;31m \u001b[0;32mfrom\u001b[0m \u001b[0mtwisted\u001b[0m\u001b[0;34m.\u001b[0m\u001b[0mpython\u001b[0m \u001b[0;32mimport\u001b[0m \u001b[0mlog\u001b[0m\u001b[0;34m\u001b[0m\u001b[0m\n\u001b[0m\u001b[1;32m     25\u001b[0m \u001b[0;32mfrom\u001b[0m \u001b[0mtwisted\u001b[0m\u001b[0;34m.\u001b[0m\u001b[0mpython\u001b[0m \u001b[0;32mimport\u001b[0m \u001b[0mreflect\u001b[0m\u001b[0;34m\u001b[0m\u001b[0m\n\u001b[1;32m     26\u001b[0m \u001b[0;34m\u001b[0m\u001b[0m\n",
      "\u001b[0;32m/Users/benjaminandrew/Documents/bootstrap_api/env/lib/python2.7/site-packages/twisted/python/log.py\u001b[0m in \u001b[0;36m<module>\u001b[0;34m()\u001b[0m\n\u001b[1;32m     15\u001b[0m \u001b[0;32mfrom\u001b[0m \u001b[0mdatetime\u001b[0m \u001b[0;32mimport\u001b[0m \u001b[0mdatetime\u001b[0m\u001b[0;34m\u001b[0m\u001b[0m\n\u001b[1;32m     16\u001b[0m \u001b[0;34m\u001b[0m\u001b[0m\n\u001b[0;32m---> 17\u001b[0;31m \u001b[0;32mfrom\u001b[0m \u001b[0mzope\u001b[0m\u001b[0;34m.\u001b[0m\u001b[0minterface\u001b[0m \u001b[0;32mimport\u001b[0m \u001b[0mInterface\u001b[0m\u001b[0;34m\u001b[0m\u001b[0m\n\u001b[0m\u001b[1;32m     18\u001b[0m \u001b[0;34m\u001b[0m\u001b[0m\n\u001b[1;32m     19\u001b[0m \u001b[0;32mfrom\u001b[0m \u001b[0mtwisted\u001b[0m\u001b[0;34m.\u001b[0m\u001b[0mpython\u001b[0m\u001b[0;34m.\u001b[0m\u001b[0mcompat\u001b[0m \u001b[0;32mimport\u001b[0m \u001b[0municode\u001b[0m\u001b[0;34m,\u001b[0m \u001b[0m_PY3\u001b[0m\u001b[0;34m\u001b[0m\u001b[0m\n",
      "\u001b[0;31mImportError\u001b[0m: No module named zope.interface"
     ]
    }
   ],
   "source": [
    "import scrapy\n",
    "import requests \n"
   ]
  },
  {
   "cell_type": "code",
   "execution_count": 92,
   "metadata": {},
   "outputs": [],
   "source": [
    "category = \"77111500 - military science and research\"\n",
    "\n",
    "def unspsc_format(category):\n",
    "    cat_array = category.split(\" - \")\n",
    "    u_segment = cat_array[0][:-6] + \"000000\"\n",
    "    u_family = cat_array[0][:-4] + \"0000\"\n",
    "    u_class = cat_array[0][:-2] + \"00\"\n",
    "    u_commodity = cat_array[0]\n",
    "    return {\"segment\":u_segment, \"family\":u_family, \"class\":u_class, \"commodity\":u_commodity}\n",
    "\n",
    "\n",
    "def unspsc_search(data):\n",
    "    print data\n",
    "    levels = ['segment', 'family', 'class', 'commodity']\n",
    "    i=1\n",
    "    for item in data:\n",
    "        # check if exists in db\n",
    "        \n",
    "        # if yes exit\n",
    "        if exists==True:\n",
    "            next\n",
    "        else:\n",
    "            # scrape the name from the unspsc website\n",
    "            \n",
    "            # add it to the database\n",
    "            \n",
    "            API_ENDPOINT = ENDPOINT+\"unspsc/add\"\n",
    "            post_data = {'unspsc': unspsc, 'title': unspsc_title, 'level': levels[i]} \n",
    "            r = requests.post(url = API_ENDPOINT, data = post_data)\n",
    "            \n",
    "        #i++\n",
    "    "
   ]
  },
  {
   "cell_type": "code",
   "execution_count": 113,
   "metadata": {},
   "outputs": [
    {
     "data": {
      "text/plain": [
       "{'class': '77111500',\n",
       " 'commodity': '77111500',\n",
       " 'family': '77110000',\n",
       " 'segment': '77000000'}"
      ]
     },
     "execution_count": 113,
     "metadata": {},
     "output_type": "execute_result"
    }
   ],
   "source": [
    "unspsc_dict = unspsc_format(category)\n",
    "#unspsc_search(data)\n",
    "unspsc_dict"
   ]
  },
  {
   "cell_type": "code",
   "execution_count": 122,
   "metadata": {},
   "outputs": [
    {
     "name": "stdout",
     "output_type": "stream",
     "text": [
      "<Response [200]>\n",
      "<Response [200]>\n",
      "<Response [200]>\n",
      "<Response [200]>\n"
     ]
    }
   ],
   "source": [
    "def unspsc_format(category):\n",
    "    cat_array = category.split(\" - \")\n",
    "    u_segment = cat_array[0][:-6] + \"000000\"\n",
    "    u_family = cat_array[0][:-4] + \"0000\"\n",
    "    u_class = cat_array[0][:-2] + \"00\"\n",
    "    u_commodity = cat_array[0]\n",
    "    return {\"segment\":u_segment, \"family\":u_family, \"class\":u_class, \"commodity\":u_commodity}\n",
    "\n",
    "data['category']=\"81150000 - earth science services\"\n",
    "\n",
    "\n",
    "ENDPOINT = \"http://127.0.0.1:5000/\"\n",
    "API_ENDPOINT_UNSPSC = ENDPOINT+\"unspsc/add\"\n",
    "unspsc_dict = unspsc_format(data['category'])\n",
    "for level, unspsc in unspsc_dict.items():\n",
    "    unspsc_data = {'unspsc':unspsc, 'title':None, 'level':level}\n",
    "    r = requests.post(url = API_ENDPOINT_UNSPSC, data = unspsc_data)\n",
    "    print(r)\n"
   ]
  },
  {
   "cell_type": "code",
   "execution_count": 94,
   "metadata": {},
   "outputs": [
    {
     "name": "stdout",
     "output_type": "stream",
     "text": [
      "77111500\n",
      "77000000\n",
      "77111500\n",
      "77110000\n"
     ]
    }
   ],
   "source": [
    "for level, unspsc_no in unspsc_dict.items(): \n",
    "    # CHECK IF IT EXISTS HERE BEFORE SCRAPING\n",
    "    print(unspsc_no)\n",
    "    #unspsc_url = 'https://www.unspsc.org/search-code/default.aspx?CSS='+ unspsc_dict[unspsc_no] +'&Type=desc&SS='\n"
   ]
  },
  {
   "cell_type": "code",
   "execution_count": 99,
   "metadata": {},
   "outputs": [
    {
     "data": {
      "text/plain": [
       "[('segment', '77000000'),\n",
       " ('family', '77110000'),\n",
       " ('commodity', '77111500'),\n",
       " ('class', '77111500')]"
      ]
     },
     "execution_count": 99,
     "metadata": {},
     "output_type": "execute_result"
    }
   ],
   "source": [
    "sorted_dict = sorted(unspsc_dict.items(), key=lambda kv: kv[1])\n",
    "sorted_dict"
   ]
  },
  {
   "cell_type": "code",
   "execution_count": 102,
   "metadata": {},
   "outputs": [
    {
     "name": "stdout",
     "output_type": "stream",
     "text": [
      "('segment', '77000000')\n"
     ]
    }
   ],
   "source": [
    "for item in sorted_dict:\n",
    "    print(item[0], item[1])\n",
    "    break"
   ]
  },
  {
   "cell_type": "code",
   "execution_count": 108,
   "metadata": {},
   "outputs": [
    {
     "name": "stdout",
     "output_type": "stream",
     "text": [
      "{u'segment': {u'parent_id': 0, u'unspsc': 77000000, u'title': u'Environmental Services'}}\n",
      "{u'response': False}\n",
      "check\n",
      "{u'response': False}\n",
      "check\n",
      "{u'response': False}\n",
      "check\n"
     ]
    }
   ],
   "source": [
    "ENDPOINT = \"http://127.0.0.1:5000/\"\n",
    "unspsc_dict = {'class': '77111500',\n",
    " 'commodity': '77111500',\n",
    " 'family': '77110000',\n",
    " 'segment': '77000000'}\n",
    "sorted_dict = sorted(unspsc_dict.items(), key=lambda kv: kv[1])\n",
    "for item in sorted_dict: \n",
    "    # CHECK IF IT EXISTS HERE BEFORE SCRAPING\n",
    "    API_ENDPOINT_UNSPSC = ENDPOINT+\"unspsc/\"+item[1]\n",
    "    r = requests.get(url = API_ENDPOINT_UNSPSC).json()\n",
    "    print(r)\n",
    "    try:\n",
    "        if r['response']==False:\n",
    "            print('check')\n",
    "    except:\n",
    "        pass"
   ]
  },
  {
   "cell_type": "code",
   "execution_count": 130,
   "metadata": {},
   "outputs": [
    {
     "name": "stdout",
     "output_type": "stream",
     "text": [
      "https://www.unspsc.org/search-code/default.aspx?CSS=81000000&Type=desc&SS=\n",
      "https://www.unspsc.org/search-code/default.aspx?CSS=81150000&Type=desc&SS=\n",
      "https://www.unspsc.org/search-code/default.aspx?CSS=12000000&Type=desc&SS=\n",
      "https://www.unspsc.org/search-code/default.aspx?CSS=12140000&Type=desc&SS=\n",
      "https://www.unspsc.org/search-code/default.aspx?CSS=72000000&Type=desc&SS=\n",
      "https://www.unspsc.org/search-code/default.aspx?CSS=72100000&Type=desc&SS=\n",
      "https://www.unspsc.org/search-code/default.aspx?CSS=77000000&Type=desc&SS=\n",
      "https://www.unspsc.org/search-code/default.aspx?CSS=77110000&Type=desc&SS=\n",
      "https://www.unspsc.org/search-code/default.aspx?CSS=77111500&Type=desc&SS=\n",
      "https://www.unspsc.org/search-code/default.aspx?CSS=80000000&Type=desc&SS=\n",
      "https://www.unspsc.org/search-code/default.aspx?CSS=80100000&Type=desc&SS=\n",
      "https://www.unspsc.org/search-code/default.aspx?CSS=70000000&Type=desc&SS=\n",
      "https://www.unspsc.org/search-code/default.aspx?CSS=70140000&Type=desc&SS=\n",
      "https://www.unspsc.org/search-code/default.aspx?CSS=86000000&Type=desc&SS=\n",
      "https://www.unspsc.org/search-code/default.aspx?CSS=25000000&Type=desc&SS=\n",
      "https://www.unspsc.org/search-code/default.aspx?CSS=25110000&Type=desc&SS=\n",
      "https://www.unspsc.org/search-code/default.aspx?CSS=25111700&Type=desc&SS=\n"
     ]
    }
   ],
   "source": [
    "API_ENDPOINT_UNSPSC = ENDPOINT+\"unspsc\"\n",
    "r = requests.get(url = API_ENDPOINT_UNSPSC).json()\n",
    "urls = []\n",
    "for item in r:\n",
    "    #print item['id'], item['unspsc']\n",
    "    unspsc_url = 'https://www.unspsc.org/search-code/default.aspx?CSS='+ str(item['unspsc']) +'&Type=desc&SS='\n",
    "    urls.append(unspsc_url)\n",
    "    print unspsc_url"
   ]
  },
  {
   "cell_type": "code",
   "execution_count": 91,
   "metadata": {},
   "outputs": [
    {
     "data": {
      "text/plain": [
       "False"
      ]
     },
     "execution_count": 91,
     "metadata": {},
     "output_type": "execute_result"
    }
   ],
   "source": [
    "import requests \n",
    "url = \"http://127.0.0.1:5000/unspsc/92111700\"\n",
    "\n",
    "r = requests.get(url = url).json()\n",
    "r['response']"
   ]
  },
  {
   "cell_type": "code",
   "execution_count": 18,
   "metadata": {},
   "outputs": [
    {
     "name": "stdout",
     "output_type": "stream",
     "text": [
      "['hello', 'my name is Peter', 'I am 26 years old']\n"
     ]
    }
   ],
   "source": [
    "txt = \"hello, my name is Peter, I am 26 years old\"\n",
    "\n",
    "x = txt.split(\", \")\n",
    "\n",
    "print(x)"
   ]
  },
  {
   "cell_type": "code",
   "execution_count": null,
   "metadata": {},
   "outputs": [],
   "source": [
    "class AusTenderSpider():\n",
    "\n",
    "    def __init__(self, category):\n",
    "        unspsc_lookup(category)\n",
    "        \n",
    "au = AusTenderSpider(\"red\")"
   ]
  },
  {
   "cell_type": "code",
   "execution_count": 109,
   "metadata": {},
   "outputs": [
    {
     "ename": "NameError",
     "evalue": "name 'scrapy' is not defined",
     "output_type": "error",
     "traceback": [
      "\u001b[0;31m---------------------------------------------------------------------------\u001b[0m",
      "\u001b[0;31mNameError\u001b[0m                                 Traceback (most recent call last)",
      "\u001b[0;32m<ipython-input-109-be357bd1a25a>\u001b[0m in \u001b[0;36m<module>\u001b[0;34m()\u001b[0m\n\u001b[0;32m----> 1\u001b[0;31m \u001b[0mscrapy\u001b[0m\u001b[0;34m.\u001b[0m\u001b[0mRequest\u001b[0m\u001b[0;34m(\u001b[0m\u001b[0munspsc_url\u001b[0m\u001b[0;34m,\u001b[0m \u001b[0mcallback\u001b[0m\u001b[0;34m=\u001b[0m\u001b[0mself\u001b[0m\u001b[0;34m.\u001b[0m\u001b[0mparse_unspsc\u001b[0m\u001b[0;34m,\u001b[0m \u001b[0mmeta\u001b[0m\u001b[0;34m=\u001b[0m\u001b[0;34m{\u001b[0m\u001b[0;34m'level'\u001b[0m\u001b[0;34m:\u001b[0m \u001b[0mlevel\u001b[0m\u001b[0;34m}\u001b[0m\u001b[0;34m)\u001b[0m\u001b[0;34m\u001b[0m\u001b[0m\n\u001b[0m",
      "\u001b[0;31mNameError\u001b[0m: name 'scrapy' is not defined"
     ]
    }
   ],
   "source": [
    "scrapy.Request(unspsc_url, callback=self.parse_unspsc, meta={'level': level})"
   ]
  },
  {
   "cell_type": "code",
   "execution_count": null,
   "metadata": {},
   "outputs": [],
   "source": []
  }
 ],
 "metadata": {
  "kernelspec": {
   "display_name": "Python 2",
   "language": "python",
   "name": "python2"
  },
  "language_info": {
   "codemirror_mode": {
    "name": "ipython",
    "version": 2
   },
   "file_extension": ".py",
   "mimetype": "text/x-python",
   "name": "python",
   "nbconvert_exporter": "python",
   "pygments_lexer": "ipython2",
   "version": "2.7.10"
  }
 },
 "nbformat": 4,
 "nbformat_minor": 2
}
