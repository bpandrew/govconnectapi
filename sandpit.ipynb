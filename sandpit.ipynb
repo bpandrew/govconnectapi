{
 "cells": [
  {
   "cell_type": "code",
   "execution_count": 112,
   "metadata": {},
   "outputs": [
    {
     "ename": "ImportError",
     "evalue": "No module named zope.interface",
     "output_type": "error",
     "traceback": [
      "\u001b[0;31m---------------------------------------------------------------------------\u001b[0m",
      "\u001b[0;31mImportError\u001b[0m                               Traceback (most recent call last)",
      "\u001b[0;32m<ipython-input-112-53afbc5d71f6>\u001b[0m in \u001b[0;36m<module>\u001b[0;34m()\u001b[0m\n\u001b[0;32m----> 1\u001b[0;31m \u001b[0;32mimport\u001b[0m \u001b[0mscrapy\u001b[0m\u001b[0;34m\u001b[0m\u001b[0m\n\u001b[0m\u001b[1;32m      2\u001b[0m \u001b[0;32mimport\u001b[0m \u001b[0mrequests\u001b[0m\u001b[0;34m\u001b[0m\u001b[0m\n",
      "\u001b[0;32m/Users/benjaminandrew/Documents/bootstrap_api/env/lib/python2.7/site-packages/scrapy/__init__.py\u001b[0m in \u001b[0;36m<module>\u001b[0;34m()\u001b[0m\n\u001b[1;32m     25\u001b[0m \u001b[0;34m\u001b[0m\u001b[0m\n\u001b[1;32m     26\u001b[0m \u001b[0;31m# Apply monkey patches to fix issues in external libraries\u001b[0m\u001b[0;34m\u001b[0m\u001b[0;34m\u001b[0m\u001b[0m\n\u001b[0;32m---> 27\u001b[0;31m \u001b[0;32mfrom\u001b[0m \u001b[0;34m.\u001b[0m \u001b[0;32mimport\u001b[0m \u001b[0m_monkeypatches\u001b[0m\u001b[0;34m\u001b[0m\u001b[0m\n\u001b[0m\u001b[1;32m     28\u001b[0m \u001b[0;32mdel\u001b[0m \u001b[0m_monkeypatches\u001b[0m\u001b[0;34m\u001b[0m\u001b[0m\n\u001b[1;32m     29\u001b[0m \u001b[0;34m\u001b[0m\u001b[0m\n",
      "\u001b[0;32m/Users/benjaminandrew/Documents/bootstrap_api/env/lib/python2.7/site-packages/scrapy/_monkeypatches.py\u001b[0m in \u001b[0;36m<module>\u001b[0;34m()\u001b[0m\n\u001b[1;32m     18\u001b[0m \u001b[0;31m# Undo what Twisted's perspective broker adds to pickle register\u001b[0m\u001b[0;34m\u001b[0m\u001b[0;34m\u001b[0m\u001b[0m\n\u001b[1;32m     19\u001b[0m \u001b[0;31m# to prevent bugs like Twisted#7989 while serializing requests\u001b[0m\u001b[0;34m\u001b[0m\u001b[0;34m\u001b[0m\u001b[0m\n\u001b[0;32m---> 20\u001b[0;31m \u001b[0;32mimport\u001b[0m \u001b[0mtwisted\u001b[0m\u001b[0;34m.\u001b[0m\u001b[0mpersisted\u001b[0m\u001b[0;34m.\u001b[0m\u001b[0mstyles\u001b[0m  \u001b[0;31m# NOQA\u001b[0m\u001b[0;34m\u001b[0m\u001b[0m\n\u001b[0m\u001b[1;32m     21\u001b[0m \u001b[0;31m# Remove only entries with twisted serializers for non-twisted types.\u001b[0m\u001b[0;34m\u001b[0m\u001b[0;34m\u001b[0m\u001b[0m\n\u001b[1;32m     22\u001b[0m \u001b[0;32mfor\u001b[0m \u001b[0mk\u001b[0m\u001b[0;34m,\u001b[0m \u001b[0mv\u001b[0m \u001b[0;32min\u001b[0m \u001b[0mfrozenset\u001b[0m\u001b[0;34m(\u001b[0m\u001b[0mcopyreg\u001b[0m\u001b[0;34m.\u001b[0m\u001b[0mdispatch_table\u001b[0m\u001b[0;34m.\u001b[0m\u001b[0mitems\u001b[0m\u001b[0;34m(\u001b[0m\u001b[0;34m)\u001b[0m\u001b[0;34m)\u001b[0m\u001b[0;34m:\u001b[0m\u001b[0;34m\u001b[0m\u001b[0m\n",
      "\u001b[0;32m/Users/benjaminandrew/Documents/bootstrap_api/env/lib/python2.7/site-packages/twisted/persisted/styles.py\u001b[0m in \u001b[0;36m<module>\u001b[0;34m()\u001b[0m\n\u001b[1;32m     22\u001b[0m \u001b[0;34m\u001b[0m\u001b[0m\n\u001b[1;32m     23\u001b[0m \u001b[0;31m# Twisted Imports\u001b[0m\u001b[0;34m\u001b[0m\u001b[0;34m\u001b[0m\u001b[0m\n\u001b[0;32m---> 24\u001b[0;31m \u001b[0;32mfrom\u001b[0m \u001b[0mtwisted\u001b[0m\u001b[0;34m.\u001b[0m\u001b[0mpython\u001b[0m \u001b[0;32mimport\u001b[0m \u001b[0mlog\u001b[0m\u001b[0;34m\u001b[0m\u001b[0m\n\u001b[0m\u001b[1;32m     25\u001b[0m \u001b[0;32mfrom\u001b[0m \u001b[0mtwisted\u001b[0m\u001b[0;34m.\u001b[0m\u001b[0mpython\u001b[0m \u001b[0;32mimport\u001b[0m \u001b[0mreflect\u001b[0m\u001b[0;34m\u001b[0m\u001b[0m\n\u001b[1;32m     26\u001b[0m \u001b[0;34m\u001b[0m\u001b[0m\n",
      "\u001b[0;32m/Users/benjaminandrew/Documents/bootstrap_api/env/lib/python2.7/site-packages/twisted/python/log.py\u001b[0m in \u001b[0;36m<module>\u001b[0;34m()\u001b[0m\n\u001b[1;32m     15\u001b[0m \u001b[0;32mfrom\u001b[0m \u001b[0mdatetime\u001b[0m \u001b[0;32mimport\u001b[0m \u001b[0mdatetime\u001b[0m\u001b[0;34m\u001b[0m\u001b[0m\n\u001b[1;32m     16\u001b[0m \u001b[0;34m\u001b[0m\u001b[0m\n\u001b[0;32m---> 17\u001b[0;31m \u001b[0;32mfrom\u001b[0m \u001b[0mzope\u001b[0m\u001b[0;34m.\u001b[0m\u001b[0minterface\u001b[0m \u001b[0;32mimport\u001b[0m \u001b[0mInterface\u001b[0m\u001b[0;34m\u001b[0m\u001b[0m\n\u001b[0m\u001b[1;32m     18\u001b[0m \u001b[0;34m\u001b[0m\u001b[0m\n\u001b[1;32m     19\u001b[0m \u001b[0;32mfrom\u001b[0m \u001b[0mtwisted\u001b[0m\u001b[0;34m.\u001b[0m\u001b[0mpython\u001b[0m\u001b[0;34m.\u001b[0m\u001b[0mcompat\u001b[0m \u001b[0;32mimport\u001b[0m \u001b[0municode\u001b[0m\u001b[0;34m,\u001b[0m \u001b[0m_PY3\u001b[0m\u001b[0;34m\u001b[0m\u001b[0m\n",
      "\u001b[0;31mImportError\u001b[0m: No module named zope.interface"
     ]
    }
   ],
   "source": [
    "import scrapy\n",
    "import requests \n"
   ]
  },
  {
   "cell_type": "code",
   "execution_count": 92,
   "metadata": {},
   "outputs": [],
   "source": [
    "category = \"77111500 - military science and research\"\n",
    "\n",
    "def unspsc_format(category):\n",
    "    cat_array = category.split(\" - \")\n",
    "    u_segment = cat_array[0][:-6] + \"000000\"\n",
    "    u_family = cat_array[0][:-4] + \"0000\"\n",
    "    u_class = cat_array[0][:-2] + \"00\"\n",
    "    u_commodity = cat_array[0]\n",
    "    return {\"segment\":u_segment, \"family\":u_family, \"class\":u_class, \"commodity\":u_commodity}\n",
    "\n",
    "\n",
    "def unspsc_search(data):\n",
    "    print data\n",
    "    levels = ['segment', 'family', 'class', 'commodity']\n",
    "    i=1\n",
    "    for item in data:\n",
    "        # check if exists in db\n",
    "        \n",
    "        # if yes exit\n",
    "        if exists==True:\n",
    "            next\n",
    "        else:\n",
    "            # scrape the name from the unspsc website\n",
    "            \n",
    "            # add it to the database\n",
    "            \n",
    "            API_ENDPOINT = ENDPOINT+\"unspsc/add\"\n",
    "            post_data = {'unspsc': unspsc, 'title': unspsc_title, 'level': levels[i]} \n",
    "            r = requests.post(url = API_ENDPOINT, data = post_data)\n",
    "            \n",
    "        #i++\n",
    "    "
   ]
  },
  {
   "cell_type": "code",
   "execution_count": 113,
   "metadata": {},
   "outputs": [
    {
     "data": {
      "text/plain": [
       "{'class': '77111500',\n",
       " 'commodity': '77111500',\n",
       " 'family': '77110000',\n",
       " 'segment': '77000000'}"
      ]
     },
     "execution_count": 113,
     "metadata": {},
     "output_type": "execute_result"
    }
   ],
   "source": [
    "unspsc_dict = unspsc_format(category)\n",
    "#unspsc_search(data)\n",
    "unspsc_dict"
   ]
  },
  {
   "cell_type": "code",
   "execution_count": 122,
   "metadata": {},
   "outputs": [
    {
     "name": "stdout",
     "output_type": "stream",
     "text": [
      "<Response [200]>\n",
      "<Response [200]>\n",
      "<Response [200]>\n",
      "<Response [200]>\n"
     ]
    }
   ],
   "source": [
    "def unspsc_format(category):\n",
    "    cat_array = category.split(\" - \")\n",
    "    u_segment = cat_array[0][:-6] + \"000000\"\n",
    "    u_family = cat_array[0][:-4] + \"0000\"\n",
    "    u_class = cat_array[0][:-2] + \"00\"\n",
    "    u_commodity = cat_array[0]\n",
    "    return {\"segment\":u_segment, \"family\":u_family, \"class\":u_class, \"commodity\":u_commodity}\n",
    "\n",
    "data['category']=\"81150000 - earth science services\"\n",
    "\n",
    "\n",
    "ENDPOINT = \"http://127.0.0.1:5000/\"\n",
    "API_ENDPOINT_UNSPSC = ENDPOINT+\"unspsc/add\"\n",
    "unspsc_dict = unspsc_format(data['category'])\n",
    "for level, unspsc in unspsc_dict.items():\n",
    "    unspsc_data = {'unspsc':unspsc, 'title':None, 'level':level}\n",
    "    r = requests.post(url = API_ENDPOINT_UNSPSC, data = unspsc_data)\n",
    "    print(r)\n"
   ]
  },
  {
   "cell_type": "code",
   "execution_count": 94,
   "metadata": {},
   "outputs": [
    {
     "name": "stdout",
     "output_type": "stream",
     "text": [
      "77111500\n",
      "77000000\n",
      "77111500\n",
      "77110000\n"
     ]
    }
   ],
   "source": [
    "for level, unspsc_no in unspsc_dict.items(): \n",
    "    # CHECK IF IT EXISTS HERE BEFORE SCRAPING\n",
    "    print(unspsc_no)\n",
    "    #unspsc_url = 'https://www.unspsc.org/search-code/default.aspx?CSS='+ unspsc_dict[unspsc_no] +'&Type=desc&SS='\n"
   ]
  },
  {
   "cell_type": "code",
   "execution_count": 99,
   "metadata": {},
   "outputs": [
    {
     "data": {
      "text/plain": [
       "[('segment', '77000000'),\n",
       " ('family', '77110000'),\n",
       " ('commodity', '77111500'),\n",
       " ('class', '77111500')]"
      ]
     },
     "execution_count": 99,
     "metadata": {},
     "output_type": "execute_result"
    }
   ],
   "source": [
    "sorted_dict = sorted(unspsc_dict.items(), key=lambda kv: kv[1])\n",
    "sorted_dict"
   ]
  },
  {
   "cell_type": "code",
   "execution_count": 102,
   "metadata": {},
   "outputs": [
    {
     "name": "stdout",
     "output_type": "stream",
     "text": [
      "('segment', '77000000')\n"
     ]
    }
   ],
   "source": [
    "for item in sorted_dict:\n",
    "    print(item[0], item[1])\n",
    "    break"
   ]
  },
  {
   "cell_type": "code",
   "execution_count": 108,
   "metadata": {},
   "outputs": [
    {
     "name": "stdout",
     "output_type": "stream",
     "text": [
      "{u'segment': {u'parent_id': 0, u'unspsc': 77000000, u'title': u'Environmental Services'}}\n",
      "{u'response': False}\n",
      "check\n",
      "{u'response': False}\n",
      "check\n",
      "{u'response': False}\n",
      "check\n"
     ]
    }
   ],
   "source": [
    "ENDPOINT = \"http://127.0.0.1:5000/\"\n",
    "unspsc_dict = {'class': '77111500',\n",
    " 'commodity': '77111500',\n",
    " 'family': '77110000',\n",
    " 'segment': '77000000'}\n",
    "sorted_dict = sorted(unspsc_dict.items(), key=lambda kv: kv[1])\n",
    "for item in sorted_dict: \n",
    "    # CHECK IF IT EXISTS HERE BEFORE SCRAPING\n",
    "    API_ENDPOINT_UNSPSC = ENDPOINT+\"unspsc/\"+item[1]\n",
    "    r = requests.get(url = API_ENDPOINT_UNSPSC).json()\n",
    "    print(r)\n",
    "    try:\n",
    "        if r['response']==False:\n",
    "            print('check')\n",
    "    except:\n",
    "        pass"
   ]
  },
  {
   "cell_type": "code",
   "execution_count": 131,
   "metadata": {},
   "outputs": [
    {
     "data": {
      "text/plain": [
       "['https://www.unspsc.org/search-code/default.aspx?CSS=81000000&Type=desc&SS=',\n",
       " 'https://www.unspsc.org/search-code/default.aspx?CSS=81150000&Type=desc&SS=',\n",
       " 'https://www.unspsc.org/search-code/default.aspx?CSS=12000000&Type=desc&SS=',\n",
       " 'https://www.unspsc.org/search-code/default.aspx?CSS=12140000&Type=desc&SS=',\n",
       " 'https://www.unspsc.org/search-code/default.aspx?CSS=72000000&Type=desc&SS=',\n",
       " 'https://www.unspsc.org/search-code/default.aspx?CSS=72100000&Type=desc&SS=',\n",
       " 'https://www.unspsc.org/search-code/default.aspx?CSS=77000000&Type=desc&SS=',\n",
       " 'https://www.unspsc.org/search-code/default.aspx?CSS=77110000&Type=desc&SS=',\n",
       " 'https://www.unspsc.org/search-code/default.aspx?CSS=77111500&Type=desc&SS=',\n",
       " 'https://www.unspsc.org/search-code/default.aspx?CSS=80000000&Type=desc&SS=',\n",
       " 'https://www.unspsc.org/search-code/default.aspx?CSS=80100000&Type=desc&SS=',\n",
       " 'https://www.unspsc.org/search-code/default.aspx?CSS=70000000&Type=desc&SS=',\n",
       " 'https://www.unspsc.org/search-code/default.aspx?CSS=70140000&Type=desc&SS=',\n",
       " 'https://www.unspsc.org/search-code/default.aspx?CSS=86000000&Type=desc&SS=',\n",
       " 'https://www.unspsc.org/search-code/default.aspx?CSS=25000000&Type=desc&SS=',\n",
       " 'https://www.unspsc.org/search-code/default.aspx?CSS=25110000&Type=desc&SS=',\n",
       " 'https://www.unspsc.org/search-code/default.aspx?CSS=25111700&Type=desc&SS=']"
      ]
     },
     "execution_count": 131,
     "metadata": {},
     "output_type": "execute_result"
    }
   ],
   "source": [
    "API_ENDPOINT_UNSPSC = ENDPOINT+\"unspsc\"\n",
    "r = requests.get(url = API_ENDPOINT_UNSPSC).json()\n",
    "urls = []\n",
    "for item in r:\n",
    "    #print item['id'], item['unspsc']\n",
    "    unspsc_url = 'https://www.unspsc.org/search-code/default.aspx?CSS='+ str(item['unspsc']) +'&Type=desc&SS='\n",
    "    urls.append(unspsc_url)\n",
    "urls"
   ]
  },
  {
   "cell_type": "code",
   "execution_count": 91,
   "metadata": {},
   "outputs": [
    {
     "data": {
      "text/plain": [
       "False"
      ]
     },
     "execution_count": 91,
     "metadata": {},
     "output_type": "execute_result"
    }
   ],
   "source": [
    "import requests \n",
    "url = \"http://127.0.0.1:5000/unspsc/92111700\"\n",
    "\n",
    "r = requests.get(url = url).json()\n",
    "r['response']"
   ]
  },
  {
   "cell_type": "code",
   "execution_count": 18,
   "metadata": {},
   "outputs": [
    {
     "name": "stdout",
     "output_type": "stream",
     "text": [
      "['hello', 'my name is Peter', 'I am 26 years old']\n"
     ]
    }
   ],
   "source": [
    "txt = \"hello, my name is Peter, I am 26 years old\"\n",
    "\n",
    "x = txt.split(\", \")\n",
    "\n",
    "print(x)"
   ]
  },
  {
   "cell_type": "code",
   "execution_count": null,
   "metadata": {},
   "outputs": [],
   "source": [
    "class AusTenderSpider():\n",
    "\n",
    "    def __init__(self, category):\n",
    "        unspsc_lookup(category)\n",
    "        \n",
    "au = AusTenderSpider(\"red\")"
   ]
  },
  {
   "cell_type": "code",
   "execution_count": 109,
   "metadata": {},
   "outputs": [
    {
     "ename": "NameError",
     "evalue": "name 'scrapy' is not defined",
     "output_type": "error",
     "traceback": [
      "\u001b[0;31m---------------------------------------------------------------------------\u001b[0m",
      "\u001b[0;31mNameError\u001b[0m                                 Traceback (most recent call last)",
      "\u001b[0;32m<ipython-input-109-be357bd1a25a>\u001b[0m in \u001b[0;36m<module>\u001b[0;34m()\u001b[0m\n\u001b[0;32m----> 1\u001b[0;31m \u001b[0mscrapy\u001b[0m\u001b[0;34m.\u001b[0m\u001b[0mRequest\u001b[0m\u001b[0;34m(\u001b[0m\u001b[0munspsc_url\u001b[0m\u001b[0;34m,\u001b[0m \u001b[0mcallback\u001b[0m\u001b[0;34m=\u001b[0m\u001b[0mself\u001b[0m\u001b[0;34m.\u001b[0m\u001b[0mparse_unspsc\u001b[0m\u001b[0;34m,\u001b[0m \u001b[0mmeta\u001b[0m\u001b[0;34m=\u001b[0m\u001b[0;34m{\u001b[0m\u001b[0;34m'level'\u001b[0m\u001b[0;34m:\u001b[0m \u001b[0mlevel\u001b[0m\u001b[0;34m}\u001b[0m\u001b[0;34m)\u001b[0m\u001b[0;34m\u001b[0m\u001b[0m\n\u001b[0m",
      "\u001b[0;31mNameError\u001b[0m: name 'scrapy' is not defined"
     ]
    }
   ],
   "source": [
    "scrapy.Request(unspsc_url, callback=self.parse_unspsc, meta={'level': level})"
   ]
  },
  {
   "cell_type": "code",
   "execution_count": 146,
   "metadata": {},
   "outputs": [
    {
     "data": {
      "text/plain": [
       "{1: {'level': 'segment', 'parent': 0, 'unspsc': '81000000'},\n",
       " 2: {'level': 'family', 'parent': '81000000', 'unspsc': '81230000'},\n",
       " 3: {'level': 'class', 'parent': '81230000', 'unspsc': '81230000'},\n",
       " 4: {'level': 'commodity', 'parent': '81230000', 'unspsc': '81230000'}}"
      ]
     },
     "execution_count": 146,
     "metadata": {},
     "output_type": "execute_result"
    }
   ],
   "source": [
    "unspsc = 81230000\n",
    "segment_ = str(unspsc)[:-6] + \"000000\"\n",
    "family_ = str(unspsc)[:-4] + \"0000\"\n",
    "class_ = str(unspsc)[:-2] + \"00\"\n",
    "commodity_ = str(unspsc)\n",
    "\n",
    "output = {1:{'level':'segment', 'unspsc':segment_, 'parent':0}, 2:{'level':'family', 'unspsc':family_, 'parent':segment_}, 3:{'level':'class', 'unspsc':class_, 'parent':family_}, 4:{'level':'commodity', 'unspsc':commodity_, 'parent':class_}}\n",
    "output"
   ]
  },
  {
   "cell_type": "code",
   "execution_count": 149,
   "metadata": {},
   "outputs": [
    {
     "name": "stdout",
     "output_type": "stream",
     "text": [
      "1 0 segment 81000000\n",
      "2 81000000 family 81230000\n",
      "3 81230000 class 81230000\n",
      "4 81230000 commodity 81230000\n"
     ]
    }
   ],
   "source": [
    "for key, value in output.items():\n",
    "    print key, value['parent'], value['level'], value['unspsc']\n",
    "    "
   ]
  },
  {
   "cell_type": "code",
   "execution_count": 169,
   "metadata": {},
   "outputs": [
    {
     "data": {
      "text/plain": [
       "[{u'id': 9,\n",
       "  u'level': u'segment',\n",
       "  u'parent_id': 0,\n",
       "  u'title': u'NULL',\n",
       "  u'unspsc': u'12000000'},\n",
       " {u'id': 10,\n",
       "  u'level': u'family',\n",
       "  u'parent_id': 9,\n",
       "  u'title': u'NULL',\n",
       "  u'unspsc': u'12340000'},\n",
       " {u'id': 11,\n",
       "  u'level': u'class',\n",
       "  u'parent_id': 10,\n",
       "  u'title': u'NULL',\n",
       "  u'unspsc': u'12345600'},\n",
       " {u'id': 12,\n",
       "  u'level': u'commodity',\n",
       "  u'parent_id': 11,\n",
       "  u'title': u'NULL',\n",
       "  u'unspsc': u'12345678'},\n",
       " {u'id': 13,\n",
       "  u'level': u'segment',\n",
       "  u'parent_id': 0,\n",
       "  u'title': u'NULL',\n",
       "  u'unspsc': u'34000000'},\n",
       " {u'id': 14,\n",
       "  u'level': u'family',\n",
       "  u'parent_id': 13,\n",
       "  u'title': u'NULL',\n",
       "  u'unspsc': u'34560000'},\n",
       " {u'id': 15,\n",
       "  u'level': u'class',\n",
       "  u'parent_id': 14,\n",
       "  u'title': u'NULL',\n",
       "  u'unspsc': u'34567800'},\n",
       " {u'id': 16,\n",
       "  u'level': u'commodity',\n",
       "  u'parent_id': 15,\n",
       "  u'title': u'NULL',\n",
       "  u'unspsc': u'34567812'}]"
      ]
     },
     "execution_count": 169,
     "metadata": {},
     "output_type": "execute_result"
    }
   ],
   "source": [
    "ENDPOINT = \"http://127.0.0.1:5000/\"\n",
    "#ENDPOINT = \"http://governmentconnectapi.herokuapp.com/\"\n",
    "\n",
    "\n",
    "API_ENDPOINT_UNSPSC = ENDPOINT+\"unspsc?filter_null=True\"\n",
    "r = requests.get(url = API_ENDPOINT_UNSPSC).json()\n",
    "start_urls = []\n",
    "data = r['data']\n",
    "data"
   ]
  },
  {
   "cell_type": "code",
   "execution_count": 172,
   "metadata": {},
   "outputs": [
    {
     "name": "stdout",
     "output_type": "stream",
     "text": [
      "12000000\n",
      "12340000\n",
      "12345600\n",
      "12345678\n",
      "34000000\n",
      "34560000\n",
      "34567800\n",
      "34567812\n"
     ]
    }
   ],
   "source": [
    "for item in data:\n",
    "    print item['unspsc']"
   ]
  },
  {
   "cell_type": "code",
   "execution_count": 177,
   "metadata": {},
   "outputs": [
    {
     "data": {
      "text/plain": [
       "3"
      ]
     },
     "execution_count": 177,
     "metadata": {},
     "output_type": "execute_result"
    }
   ],
   "source": [
    "API_ENDPOINT_AGENCY = ENDPOINT+\"agency/add?title=Department\"\n",
    "r = requests.get(url = API_ENDPOINT_AGENCY).json()\n",
    "r['data']['id']"
   ]
  },
  {
   "cell_type": "code",
   "execution_count": 4,
   "metadata": {},
   "outputs": [
    {
     "data": {
      "text/plain": [
       "{'addenda_available': '[view addenda](/atm/viewdocuments/7885abdb-b30e-42cb-815a-a0bfa4eb5d67)',\n",
       " 'address_for_lodgement': 'www.tenders.gov.au',\n",
       " 'agency': 'department of the environment and energy',\n",
       " 'atm_id': 'antarctic atm18/1211',\n",
       " 'atm_type': 'request for tender',\n",
       " 'category': '12140000',\n",
       " 'close_date_&_time': '16-jul-2019 2:00 pm (act local time)  [show close time for other timezones](/timezone?closedatetime=07%2f16%2f2019%2014%3a00%3a00)',\n",
       " 'conditions_for_participation': 'the supply of goods and services is to be provided in accordance with thestatement of requirement (sor) in the atm and subject to the terms andconditions set out in, or referred to, in atm 18/1211 gas products andservices.\\\\u00a0 neither the lowest nor any tender may necessarily be accepted.\\\\u00a0 theaad reserves the right to abandon or terminate any aspect of the atm at anystage if it is not in the public interest to proceed.\\\\u00a0 late submissions willnot be accepted and submissions forwarded by facsimile or email will not beaccepted.\\\\u00a0 tenderers should note that the draft deed of standing offer isindicative of standard terms and conditions that will form the basis of aformal agreement only and any contractual arrangement with a preferredsupplier will be subject to change.\\\\u00a0 the aad reserves the right to consideralternative terms and conditions of contract.',\n",
       " 'description': 'the australian antarctic division (aad), representing the department of theenvironment and energy,\\\\u00a0 is responsible for providing a range of day to daysupport needs for personnel involved in the management and delivery of variousoperations within antarctica and the southern ocean.in support of the australian antarctic program the aad requires a number ofdifferent gas products required to support science, medical, infrastructure,mechanical maintenance and general station operation such as cooking.this atm\\\\u00a0aims to identify a preferred supplier for the provision of gasproducts and services. the preferred supplier will be offered an initial 3year contractual term from august 2019 to august 2022 under a flexible deed ofstanding offer arrangement, with the option for a further two extensions of 1year each.',\n",
       " 'location': 'act, nsw, vic, sa, wa, qld, nt, tas  canberra, sydney, melbourne, adelaide, perth, brisbane, darwin, hobart',\n",
       " 'multi-stage': 'no',\n",
       " 'multi_agency_access': 'yes',\n",
       " 'multi_agency_access_type': 'all agencies',\n",
       " 'panel_arrangement': 'no',\n",
       " 'publish_date': '18-jun-2019',\n",
       " 'timeframe_for_delivery': 'it is anticipated that the deed of standing offer will take effect from 30august 2019',\n",
       " 'title': 'Gas Products and Services'}"
      ]
     },
     "execution_count": 4,
     "metadata": {},
     "output_type": "execute_result"
    }
   ],
   "source": [
    "data = {\"category\": \"12140000\", \"conditions_for_participation\": \"the supply of goods and services is to be provided in accordance with thestatement of requirement (sor) in the atm and subject to the terms andconditions set out in, or referred to, in atm 18/1211 gas products andservices.\\u00a0 neither the lowest nor any tender may necessarily be accepted.\\u00a0 theaad reserves the right to abandon or terminate any aspect of the atm at anystage if it is not in the public interest to proceed.\\u00a0 late submissions willnot be accepted and submissions forwarded by facsimile or email will not beaccepted.\\u00a0 tenderers should note that the draft deed of standing offer isindicative of standard terms and conditions that will form the basis of aformal agreement only and any contractual arrangement with a preferredsupplier will be subject to change.\\u00a0 the aad reserves the right to consideralternative terms and conditions of contract.\", \"panel_arrangement\": \"no\", \"multi_agency_access_type\": \"all agencies\", \"close_date_&_time\": \"16-jul-2019 2:00 pm (act local time)  [show close time for other timezones](/timezone?closedatetime=07%2f16%2f2019%2014%3a00%3a00)\", \"title\": \"Gas Products and Services\", \"multi-stage\": \"no\", \"description\": \"the australian antarctic division (aad), representing the department of theenvironment and energy,\\u00a0 is responsible for providing a range of day to daysupport needs for personnel involved in the management and delivery of variousoperations within antarctica and the southern ocean.in support of the australian antarctic program the aad requires a number ofdifferent gas products required to support science, medical, infrastructure,mechanical maintenance and general station operation such as cooking.this atm\\u00a0aims to identify a preferred supplier for the provision of gasproducts and services. the preferred supplier will be offered an initial 3year contractual term from august 2019 to august 2022 under a flexible deed ofstanding offer arrangement, with the option for a further two extensions of 1year each.\", \"agency\": \"department of the environment and energy\", \"address_for_lodgement\": \"www.tenders.gov.au\", \"timeframe_for_delivery\": \"it is anticipated that the deed of standing offer will take effect from 30august 2019\", \"publish_date\": \"18-jun-2019\", \"location\": \"act, nsw, vic, sa, wa, qld, nt, tas  canberra, sydney, melbourne, adelaide, perth, brisbane, darwin, hobart\", \"atm_id\": \"antarctic atm18/1211\", \"atm_type\": \"request for tender\", \"addenda_available\": \"[view addenda](/atm/viewdocuments/7885abdb-b30e-42cb-815a-a0bfa4eb5d67)\", \"multi_agency_access\": \"yes\"}\n",
    "data"
   ]
  },
  {
   "cell_type": "code",
   "execution_count": 5,
   "metadata": {},
   "outputs": [
    {
     "data": {
      "text/plain": [
       "'16-jul-2019 2:00 pm (act local time)  [show close time for other timezones](/timezone?closedatetime=07%2f16%2f2019%2014%3a00%3a00)'"
      ]
     },
     "execution_count": 5,
     "metadata": {},
     "output_type": "execute_result"
    }
   ],
   "source": [
    "close_date = data['close_date_&_time']\n",
    "close_date"
   ]
  },
  {
   "cell_type": "code",
   "execution_count": 8,
   "metadata": {},
   "outputs": [
    {
     "data": {
      "text/plain": [
       "u'07/16/2019 14:00:00'"
      ]
     },
     "execution_count": 8,
     "metadata": {},
     "output_type": "execute_result"
    }
   ],
   "source": [
    "from urllib import unquote\n",
    "\n",
    "scrap, dtg = close_date.split('closedatetime=')\n",
    "dtg = unquote(dtg).decode('utf8')\n",
    "dtg = dtg.replace(\")\", \"\")\n",
    "dtg"
   ]
  },
  {
   "cell_type": "code",
   "execution_count": 10,
   "metadata": {},
   "outputs": [
    {
     "data": {
      "text/plain": [
       "(u'07/16/2019', u'14:00:00')"
      ]
     },
     "execution_count": 10,
     "metadata": {},
     "output_type": "execute_result"
    }
   ],
   "source": [
    "date_, time_ = dtg.split(' ')\n",
    "date_, time_"
   ]
  },
  {
   "cell_type": "code",
   "execution_count": 21,
   "metadata": {},
   "outputs": [],
   "source": [
    "month_, day_, year_ = date_.split('/')\n",
    "month_ = month_.replace(\"0\", \"\")\n",
    "hour_, minute_, second_ = time_.split(':')"
   ]
  },
  {
   "cell_type": "code",
   "execution_count": 38,
   "metadata": {},
   "outputs": [
    {
     "data": {
      "text/plain": [
       "datetime.datetime(2019, 7, 16, 0, 0)"
      ]
     },
     "execution_count": 38,
     "metadata": {},
     "output_type": "execute_result"
    }
   ],
   "source": [
    "import datetime, time\n",
    "\n",
    "x = datetime.datetime(int(year_), int(month_), int(day_))\n",
    "x"
   ]
  },
  {
   "cell_type": "code",
   "execution_count": 39,
   "metadata": {},
   "outputs": [
    {
     "data": {
      "text/plain": [
       "datetime.datetime(2019, 7, 16, 0, 0)"
      ]
     },
     "execution_count": 39,
     "metadata": {},
     "output_type": "execute_result"
    }
   ],
   "source": [
    "close_date = data['close_date_&_time']\n",
    "scrap, dtg = close_date.split('closedatetime=')\n",
    "dtg = unquote(dtg).decode('utf8')\n",
    "dtg = dtg.replace(\")\", \"\")\n",
    "date_, time_ = dtg.split(' ')\n",
    "month_, day_, year_ = date_.split('/')\n",
    "month_ = month_.replace(\"0\", \"\")\n",
    "hour_, minute_, second_ = time_.split(':')\n",
    "close_datetime = datetime.datetime(int(year_), int(month_), int(day_))\n",
    "close_datetime"
   ]
  },
  {
   "cell_type": "code",
   "execution_count": 46,
   "metadata": {},
   "outputs": [
    {
     "data": {
      "text/plain": [
       "'1563199200.0'"
      ]
     },
     "execution_count": 46,
     "metadata": {},
     "output_type": "execute_result"
    }
   ],
   "source": [
    "def atm_date(date_string):\n",
    "    scrap, dtg = date_string.split('closedatetime=')\n",
    "    dtg = unquote(dtg).decode('utf8')\n",
    "    dtg = dtg.replace(\")\", \"\")\n",
    "    date_, time_ = dtg.split(' ')\n",
    "    month_, day_, year_ = date_.split('/')\n",
    "    month_ = month_.replace(\"0\", \"\")\n",
    "    hour_, minute_, second_ = time_.split(':')\n",
    "    close_datetime = datetime.datetime(int(year_), int(month_), int(day_), int(hour_), int(minute_))\n",
    "    close_ts = time.mktime(close_datetime.timetuple())\n",
    "\n",
    "    return str(close_ts)\n",
    "\n",
    "atm_date(data['close_date_&_time'])"
   ]
  },
  {
   "cell_type": "code",
   "execution_count": null,
   "metadata": {},
   "outputs": [],
   "source": [
    "publish_date = '18-jun-2019'"
   ]
  },
  {
   "cell_type": "code",
   "execution_count": 48,
   "metadata": {},
   "outputs": [
    {
     "data": {
      "text/plain": [
       "datetime.datetime(2019, 7, 11, 20, 46, 10, 333137)"
      ]
     },
     "execution_count": 48,
     "metadata": {},
     "output_type": "execute_result"
    }
   ],
   "source": [
    "datetime.datetime.now()"
   ]
  },
  {
   "cell_type": "code",
   "execution_count": 54,
   "metadata": {},
   "outputs": [
    {
     "data": {
      "text/plain": [
       "'The cat. over.'"
      ]
     },
     "execution_count": 54,
     "metadata": {},
     "output_type": "execute_result"
    }
   ],
   "source": [
    "str_ = \"The Cat. over.\"\n",
    "str_ = str_.capitalize()\n",
    "str_"
   ]
  },
  {
   "cell_type": "code",
   "execution_count": 58,
   "metadata": {},
   "outputs": [
    {
     "data": {
      "text/plain": [
       "datetime.datetime(2019, 6, 18, 0, 0)"
      ]
     },
     "execution_count": 58,
     "metadata": {},
     "output_type": "execute_result"
    }
   ],
   "source": [
    "publish_date = \"18-jun-2019\"\n",
    "publish = datetime.datetime.strptime(publish_date, '%d-%b-%Y')\n",
    "publish"
   ]
  },
  {
   "cell_type": "code",
   "execution_count": 62,
   "metadata": {},
   "outputs": [],
   "source": [
    "data = {\"name\":\"ben\"}"
   ]
  },
  {
   "cell_type": "code",
   "execution_count": null,
   "metadata": {},
   "outputs": [],
   "source": [
    "dtg_ = <a class=\"u\" data-target=\"#timezone\" data-toggle=\"modal\" href=\"/timezone?closedatetime=08%2f08%2f2019%2015%3a00%3a00\" id=\"timezonelink\">show close t            </div> zones</a>\"\""
   ]
  },
  {
   "cell_type": "code",
   "execution_count": 66,
   "metadata": {},
   "outputs": [
    {
     "data": {
      "text/plain": [
       "'Yes'"
      ]
     },
     "execution_count": 66,
     "metadata": {},
     "output_type": "execute_result"
    }
   ],
   "source": [
    "test_ = 1\n",
    "b = 'Yes' if test_ == 1 else 'No'\n",
    "b"
   ]
  },
  {
   "cell_type": "code",
   "execution_count": 82,
   "metadata": {},
   "outputs": [
    {
     "name": "stdout",
     "output_type": "stream",
     "text": [
      "82450000\n"
     ]
    }
   ],
   "source": [
    "search = \"82000000\"\n",
    "position_ = search.index('0')\n",
    "search_level_int = position_/2\n",
    "\n",
    "result = [{\"unspsc\":\"82450000\", \"level_int\":2}, {\"unspsc\":\"82451200\", \"level_int\":3}, {\"unspsc\":\"82453400\", \"level_int\":3}, {\"unspsc\":\"82453120\", \"level_int\":4}]\n",
    "\n",
    "for unspsc in result:\n",
    "    if (unspsc['unspsc'][:position_] == search[:position_]) and (unspsc['unspsc']!=search) and (unspsc['level_int']==search_level_int+1):\n",
    "        print unspsc['unspsc']\n",
    "    #if unspsc.unspsc[:4]"
   ]
  },
  {
   "cell_type": "code",
   "execution_count": 68,
   "metadata": {},
   "outputs": [
    {
     "data": {
      "text/plain": [
       "4"
      ]
     },
     "execution_count": 68,
     "metadata": {},
     "output_type": "execute_result"
    }
   ],
   "source": [
    "myString = '82560000'\n",
    "myString.index('0')\n"
   ]
  },
  {
   "cell_type": "code",
   "execution_count": 101,
   "metadata": {},
   "outputs": [],
   "source": [
    "data = {'category': u'software maintenance and support', 'agency': u'australian radiation protection and nuclear safety agency', 'cn_id': u'cn3609187', 'description': u'infront systems vmare renewal 3 years', 'postal_address': u'po box 5363,', 'title': u'Infront Systems vmare renewal 3 years', 'country': u'australia', 'contract_value_(aud)': u'$29,609.64', 'confidentiality_outputs': u'no', 'consultancy': u'no', 'state_territory': u'act', 'agency_reference_id': u'inft01000000-puo004987', 'town_city': u'kingston', 'publish_date': u'10-jul-2019', 'abn': u'72 084 698 699', 'atm_id': u'', 'confidentiality_contract': u'no', 'procurement_method': u'limited tender', 'postcode': u'2604', 'contract_period': u'21-jun-2019 to 20-jun-2022', 'name': u'infront systems pty.l.td.'}"
   ]
  },
  {
   "cell_type": "code",
   "execution_count": 102,
   "metadata": {},
   "outputs": [
    {
     "data": {
      "text/plain": [
       "{'abn': u'72 084 698 699',\n",
       " 'agency': u'australian radiation protection and nuclear safety agency',\n",
       " 'agency_reference_id': u'inft01000000-puo004987',\n",
       " 'atm_id': u'',\n",
       " 'category': u'software maintenance and support',\n",
       " 'cn_id': u'cn3609187',\n",
       " 'confidentiality_contract': u'no',\n",
       " 'confidentiality_outputs': u'no',\n",
       " 'consultancy': u'no',\n",
       " 'contract_period': u'21-jun-2019 to 20-jun-2022',\n",
       " 'contract_value_(aud)': u'$29,609.64',\n",
       " 'country': u'australia',\n",
       " 'description': u'infront systems vmare renewal 3 years',\n",
       " 'name': u'infront systems pty.l.td.',\n",
       " 'postal_address': u'po box 5363,',\n",
       " 'postcode': u'2604',\n",
       " 'procurement_method': u'limited tender',\n",
       " 'publish_date': u'10-jul-2019',\n",
       " 'state_territory': u'act',\n",
       " 'title': u'Infront Systems vmare renewal 3 years',\n",
       " 'town_city': u'kingston'}"
      ]
     },
     "execution_count": 102,
     "metadata": {},
     "output_type": "execute_result"
    }
   ],
   "source": [
    "data"
   ]
  },
  {
   "cell_type": "code",
   "execution_count": 103,
   "metadata": {},
   "outputs": [
    {
     "data": {
      "text/plain": [
       "u'no'"
      ]
     },
     "execution_count": 103,
     "metadata": {},
     "output_type": "execute_result"
    }
   ],
   "source": [
    "data['consultancy']"
   ]
  },
  {
   "cell_type": "code",
   "execution_count": 105,
   "metadata": {},
   "outputs": [
    {
     "data": {
      "text/plain": [
       "'4-jul-2019'"
      ]
     },
     "execution_count": 105,
     "metadata": {},
     "output_type": "execute_result"
    }
   ],
   "source": [
    "contract_period=\"4-jul-2019 to 30-aug-2019\"\n",
    "contract_start, contract_end = contract_period.split(' to ')\n",
    "data['contract_start'] = datetime.datetime.strptime(contract_start, '%d-%b-%Y')\n",
    "data['contract_end'] = datetime.datetime.strptime(contract_end, '%d-%b-%Y')\n",
    "contract_start"
   ]
  },
  {
   "cell_type": "code",
   "execution_count": 106,
   "metadata": {},
   "outputs": [
    {
     "data": {
      "text/plain": [
       "datetime.datetime(2019, 7, 4, 0, 0)"
      ]
     },
     "execution_count": 106,
     "metadata": {},
     "output_type": "execute_result"
    }
   ],
   "source": [
    "data['contract_start'] = datetime.datetime.strptime(contract_start, '%d-%b-%Y')\n",
    "data['contract_start']"
   ]
  },
  {
   "cell_type": "code",
   "execution_count": 108,
   "metadata": {},
   "outputs": [
    {
     "data": {
      "text/plain": [
       "'2019-07-10'"
      ]
     },
     "execution_count": 108,
     "metadata": {},
     "output_type": "execute_result"
    }
   ],
   "source": [
    "str_ = \"2019-07-10\"\n",
    "str_[:10]"
   ]
  },
  {
   "cell_type": "code",
   "execution_count": null,
   "metadata": {},
   "outputs": [],
   "source": []
  }
 ],
 "metadata": {
  "kernelspec": {
   "display_name": "Python 2",
   "language": "python",
   "name": "python2"
  },
  "language_info": {
   "codemirror_mode": {
    "name": "ipython",
    "version": 2
   },
   "file_extension": ".py",
   "mimetype": "text/x-python",
   "name": "python",
   "nbconvert_exporter": "python",
   "pygments_lexer": "ipython2",
   "version": "2.7.10"
  }
 },
 "nbformat": 4,
 "nbformat_minor": 2
}
